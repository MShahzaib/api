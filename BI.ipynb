{
 "cells": [
  {
   "cell_type": "code",
   "execution_count": 2,
   "metadata": {
    "collapsed": true
   },
   "outputs": [],
   "source": [
    "from __future__ import print_function\n",
    "from __future__ import division"
   ]
  },
  {
   "cell_type": "code",
   "execution_count": 3,
   "metadata": {
    "collapsed": true
   },
   "outputs": [],
   "source": [
    "import pandas as pd\n",
    "import matplotlib\n",
    "import matplotlib.pyplot as plt\n",
    "from datetime import date\n",
    "%matplotlib inline\n",
    "    \n",
    "data_dir = \"./data/\"\n",
    "data_file = \"data.csv\""
   ]
  },
  {
   "cell_type": "code",
   "execution_count": 4,
   "metadata": {},
   "outputs": [
    {
     "data": {
      "text/html": [
       "<div>\n",
       "<style>\n",
       "    .dataframe thead tr:only-child th {\n",
       "        text-align: right;\n",
       "    }\n",
       "\n",
       "    .dataframe thead th {\n",
       "        text-align: left;\n",
       "    }\n",
       "\n",
       "    .dataframe tbody tr th {\n",
       "        vertical-align: top;\n",
       "    }\n",
       "</style>\n",
       "<table border=\"1\" class=\"dataframe\">\n",
       "  <thead>\n",
       "    <tr style=\"text-align: right;\">\n",
       "      <th></th>\n",
       "      <th>Unnamed: 0</th>\n",
       "      <th>claim_no</th>\n",
       "      <th>paid_proc_code</th>\n",
       "      <th>insurance_id</th>\n",
       "      <th>amount_approved</th>\n",
       "      <th>billing_physician</th>\n",
       "      <th>provider_title</th>\n",
       "      <th>date_entry</th>\n",
       "    </tr>\n",
       "  </thead>\n",
       "  <tbody>\n",
       "    <tr>\n",
       "      <th>0</th>\n",
       "      <td>0</td>\n",
       "      <td>550786655</td>\n",
       "      <td>J1071</td>\n",
       "      <td>5008638</td>\n",
       "      <td>0.03</td>\n",
       "      <td>53483380</td>\n",
       "      <td>APN</td>\n",
       "      <td>2016-06-18 00:00:00</td>\n",
       "    </tr>\n",
       "    <tr>\n",
       "      <th>1</th>\n",
       "      <td>1</td>\n",
       "      <td>546156520</td>\n",
       "      <td>J1100</td>\n",
       "      <td>53520497</td>\n",
       "      <td>0.12</td>\n",
       "      <td>615</td>\n",
       "      <td>MD</td>\n",
       "      <td>2016-11-22 00:00:00</td>\n",
       "    </tr>\n",
       "    <tr>\n",
       "      <th>2</th>\n",
       "      <td>2</td>\n",
       "      <td>554257059</td>\n",
       "      <td>J7050</td>\n",
       "      <td>5355622</td>\n",
       "      <td>0.46</td>\n",
       "      <td>53480942</td>\n",
       "      <td>MD</td>\n",
       "      <td>2017-01-13 00:00:00</td>\n",
       "    </tr>\n",
       "    <tr>\n",
       "      <th>3</th>\n",
       "      <td>3</td>\n",
       "      <td>554403594</td>\n",
       "      <td>J7050</td>\n",
       "      <td>4221034</td>\n",
       "      <td>0.45</td>\n",
       "      <td>53480942</td>\n",
       "      <td>MD</td>\n",
       "      <td>2017-04-05 00:00:00</td>\n",
       "    </tr>\n",
       "    <tr>\n",
       "      <th>4</th>\n",
       "      <td>4</td>\n",
       "      <td>554151172</td>\n",
       "      <td>J7050</td>\n",
       "      <td>5008287</td>\n",
       "      <td>0.50</td>\n",
       "      <td>53480942</td>\n",
       "      <td>MD</td>\n",
       "      <td>2016-08-26 00:00:00</td>\n",
       "    </tr>\n",
       "  </tbody>\n",
       "</table>\n",
       "</div>"
      ],
      "text/plain": [
       "   Unnamed: 0   claim_no paid_proc_code  insurance_id  amount_approved  \\\n",
       "0           0  550786655          J1071       5008638             0.03   \n",
       "1           1  546156520          J1100      53520497             0.12   \n",
       "2           2  554257059          J7050       5355622             0.46   \n",
       "3           3  554403594          J7050       4221034             0.45   \n",
       "4           4  554151172          J7050       5008287             0.50   \n",
       "\n",
       "   billing_physician provider_title           date_entry  \n",
       "0           53483380            APN  2016-06-18 00:00:00  \n",
       "1                615             MD  2016-11-22 00:00:00  \n",
       "2           53480942             MD  2017-01-13 00:00:00  \n",
       "3           53480942             MD  2017-04-05 00:00:00  \n",
       "4           53480942             MD  2016-08-26 00:00:00  "
      ]
     },
     "execution_count": 4,
     "metadata": {},
     "output_type": "execute_result"
    }
   ],
   "source": [
    "# read data\n",
    "\n",
    "master = pd.read_csv(data_dir + data_file, thousands=',')#,nrows=10000)\n",
    "master.head()"
   ]
  },
  {
   "cell_type": "code",
   "execution_count": 5,
   "metadata": {},
   "outputs": [
    {
     "data": {
      "text/plain": [
       "Unnamed: 0             int64\n",
       "claim_no               int64\n",
       "paid_proc_code        object\n",
       "insurance_id           int64\n",
       "amount_approved      float64\n",
       "billing_physician      int64\n",
       "provider_title        object\n",
       "date_entry            object\n",
       "dtype: object"
      ]
     },
     "execution_count": 5,
     "metadata": {},
     "output_type": "execute_result"
    }
   ],
   "source": [
    "master.dtypes"
   ]
  },
  {
   "cell_type": "code",
   "execution_count": 6,
   "metadata": {
    "collapsed": true
   },
   "outputs": [],
   "source": [
    "master['date_entry'] =  pd.to_datetime(master['date_entry'])"
   ]
  },
  {
   "cell_type": "code",
   "execution_count": 7,
   "metadata": {
    "scrolled": true
   },
   "outputs": [
    {
     "data": {
      "text/html": [
       "<div>\n",
       "<style>\n",
       "    .dataframe thead tr:only-child th {\n",
       "        text-align: right;\n",
       "    }\n",
       "\n",
       "    .dataframe thead th {\n",
       "        text-align: left;\n",
       "    }\n",
       "\n",
       "    .dataframe tbody tr th {\n",
       "        vertical-align: top;\n",
       "    }\n",
       "</style>\n",
       "<table border=\"1\" class=\"dataframe\">\n",
       "  <thead>\n",
       "    <tr style=\"text-align: right;\">\n",
       "      <th></th>\n",
       "      <th>date_entry</th>\n",
       "      <th>amount_approved</th>\n",
       "    </tr>\n",
       "  </thead>\n",
       "  <tbody>\n",
       "    <tr>\n",
       "      <th>0</th>\n",
       "      <td>2016-06-18</td>\n",
       "      <td>0.03</td>\n",
       "    </tr>\n",
       "    <tr>\n",
       "      <th>1</th>\n",
       "      <td>2016-11-22</td>\n",
       "      <td>0.12</td>\n",
       "    </tr>\n",
       "    <tr>\n",
       "      <th>2</th>\n",
       "      <td>2017-01-13</td>\n",
       "      <td>0.46</td>\n",
       "    </tr>\n",
       "    <tr>\n",
       "      <th>3</th>\n",
       "      <td>2017-04-05</td>\n",
       "      <td>0.45</td>\n",
       "    </tr>\n",
       "    <tr>\n",
       "      <th>4</th>\n",
       "      <td>2016-08-26</td>\n",
       "      <td>0.50</td>\n",
       "    </tr>\n",
       "  </tbody>\n",
       "</table>\n",
       "</div>"
      ],
      "text/plain": [
       "  date_entry  amount_approved\n",
       "0 2016-06-18             0.03\n",
       "1 2016-11-22             0.12\n",
       "2 2017-01-13             0.46\n",
       "3 2017-04-05             0.45\n",
       "4 2016-08-26             0.50"
      ]
     },
     "execution_count": 7,
     "metadata": {},
     "output_type": "execute_result"
    }
   ],
   "source": [
    "df = master[['date_entry', 'amount_approved']]\n",
    "df.head()"
   ]
  },
  {
   "cell_type": "markdown",
   "metadata": {},
   "source": [
    "# EDA"
   ]
  },
  {
   "cell_type": "markdown",
   "metadata": {},
   "source": [
    "## Description of prices column "
   ]
  },
  {
   "cell_type": "code",
   "execution_count": 8,
   "metadata": {},
   "outputs": [
    {
     "name": "stdout",
     "output_type": "stream",
     "text": [
      "count    8.813175e+06\n",
      "mean     8.831032e+01\n",
      "std      2.319095e+02\n",
      "min      1.000000e-02\n",
      "25%      2.994000e+01\n",
      "50%      6.528000e+01\n",
      "75%      9.790000e+01\n",
      "max      2.076322e+04\n",
      "Name: amount_approved, dtype: float64\n",
      "\n",
      "\n",
      "std =  231.90946033637894\n"
     ]
    }
   ],
   "source": [
    "starting_des = master.amount_approved.describe()\n",
    "print(starting_des)\n",
    "\n",
    "print(\"\\n\\nstd = \",starting_des['std'])"
   ]
  },
  {
   "cell_type": "markdown",
   "metadata": {},
   "source": [
    "### hist with of prices"
   ]
  },
  {
   "cell_type": "code",
   "execution_count": 9,
   "metadata": {},
   "outputs": [
    {
     "name": "stdout",
     "output_type": "stream",
     "text": [
      "mean :  88.31032178868574\n"
     ]
    },
    {
     "data": {
      "image/png": "[encoded data removed]",
      "text/plain": [
       "<matplotlib.figure.Figure at 0x7f4f80896050>"
      ]
     },
     "metadata": {},
     "output_type": "display_data"
    }
   ],
   "source": [
    "test1 = master\n",
    "test1.amount_approved.plot(kind=\"hist\")\n",
    "print(\"mean : \", test1.amount_approved.mean())"
   ]
  },
  {
   "cell_type": "markdown",
   "metadata": {},
   "source": [
    "### values below 500 prices only"
   ]
  },
  {
   "cell_type": "code",
   "execution_count": 10,
   "metadata": {},
   "outputs": [
    {
     "name": "stdout",
     "output_type": "stream",
     "text": [
      "mean :  71.60266327941123\n"
     ]
    },
    {
     "data": {
      "image/png": "[encoded data removed]",
      "text/plain": [
       "<matplotlib.figure.Figure at 0x7f4f6996b5d0>"
      ]
     },
     "metadata": {},
     "output_type": "display_data"
    }
   ],
   "source": [
    "test1 = master[ master.amount_approved < 500]\n",
    "test1.amount_approved.plot(kind=\"hist\")\n",
    "print(\"mean : \", test1.amount_approved.mean())"
   ]
  },
  {
   "cell_type": "markdown",
   "metadata": {},
   "source": [
    "## Values with outliers removed"
   ]
  },
  {
   "cell_type": "code",
   "execution_count": 11,
   "metadata": {},
   "outputs": [
    {
     "name": "stdout",
     "output_type": "stream",
     "text": [
      "mean :  67.19297629129932\n"
     ]
    },
    {
     "data": {
      "image/png": "[encoded data removed]",
      "text/plain": [
       "<matplotlib.figure.Figure at 0x7f4f699be610>"
      ]
     },
     "metadata": {},
     "output_type": "display_data"
    }
   ],
   "source": [
    "price = 'amount_approved'\n",
    "\n",
    "_1, _2 = 0.05, 0.95\n",
    "\n",
    "quantile=master[price].quantile([_1,_2])\n",
    "q1, q2 = quantile[_1], quantile[_2]\n",
    "\n",
    "df_without = master[master[price] > q1]\n",
    "df_without = df_without[df_without[price] < q2]\n",
    "\n",
    "df_without[price].plot(kind='hist')\n",
    "print(\"mean : \", df_without.amount_approved.mean())"
   ]
  },
  {
   "cell_type": "code",
   "execution_count": 20,
   "metadata": {},
   "outputs": [
    {
     "name": "stdout",
     "output_type": "stream",
     "text": [
      "===Before removing outliers===\n",
      "mean :  88.31032178868574\n",
      "medium :  65.28\n",
      "mode :  2.94\n",
      "\n",
      "std :  231.90946033637894\n",
      "max :  20763.22\n",
      "min :  0.01\n",
      "\n",
      "\n",
      "===After removing outliers===\n",
      "mean :  67.19297629129932\n",
      "medium :  65.32\n",
      "mode :  69.11\n",
      "\n",
      "std :  41.794505908361565\n",
      "max :  199.01\n",
      "min :  4.24\n"
     ]
    }
   ],
   "source": [
    "ending_des = df_without.amount_approved.describe()\n",
    "\n",
    "\n",
    "print(\"===Before removing outliers===\")\n",
    "\n",
    "print(\"mean : \", master.amount_approved.mean())\n",
    "print(\"medium : \", master.amount_approved.median())\n",
    "print(\"mode : \", master.amount_approved.mode().iloc[0])\n",
    "\n",
    "print(\"\\nstd : \",starting_des['std'])\n",
    "print(\"max : \",starting_des['max'])\n",
    "print(\"min : \",starting_des['min'])\n",
    "\n",
    "\n",
    "print(\"\\n\\n===After removing outliers===\")\n",
    "\n",
    "print(\"mean : \", df_without.amount_approved.mean())\n",
    "print(\"medium : \", df_without.amount_approved.median())\n",
    "print(\"mode : \", df_without.amount_approved.mode().iloc[0])\n",
    "\n",
    "print(\"\\nstd : \",ending_des['std'])\n",
    "print(\"max : \",ending_des['max'])\n",
    "print(\"min : \",ending_des['min'])"
   ]
  },
  {
   "cell_type": "markdown",
   "metadata": {},
   "source": [
    "## Description of prices column without outliers"
   ]
  },
  {
   "cell_type": "code",
   "execution_count": 18,
   "metadata": {},
   "outputs": [
    {
     "name": "stdout",
     "output_type": "stream",
     "text": [
      "count    7.928777e+06\n",
      "mean     6.719298e+01\n",
      "std      4.179451e+01\n",
      "min      4.240000e+00\n",
      "25%      3.417000e+01\n",
      "50%      6.532000e+01\n",
      "75%      9.364000e+01\n",
      "max      1.990100e+02\n",
      "Name: amount_approved, dtype: float64\n"
     ]
    }
   ],
   "source": [
    "print(ending_des)"
   ]
  },
  {
   "cell_type": "markdown",
   "metadata": {},
   "source": [
    "## count comparison with and without outliers"
   ]
  },
  {
   "cell_type": "code",
   "execution_count": 19,
   "metadata": {},
   "outputs": [
    {
     "name": "stdout",
     "output_type": "stream",
     "text": [
      "count after removal : 89.96504664890917 %\n"
     ]
    }
   ],
   "source": [
    "diff =  ending_des / starting_des\n",
    "\n",
    "print(\"count after removal :\", diff[\"count\"] * 100, \"%\")"
   ]
  },
  {
   "cell_type": "markdown",
   "metadata": {},
   "source": [
    "# ---------------------------------------------------------------------------------------------------------------"
   ]
  },
  {
   "cell_type": "markdown",
   "metadata": {},
   "source": [
    "# Trend of prices over a period"
   ]
  },
  {
   "cell_type": "markdown",
   "metadata": {},
   "source": [
    "### Monthly trend of prices "
   ]
  },
  {
   "cell_type": "code",
   "execution_count": 21,
   "metadata": {},
   "outputs": [
    {
     "data": {
      "text/plain": [
       "(62.5, 70)"
      ]
     },
     "execution_count": 21,
     "metadata": {},
     "output_type": "execute_result"
    },
    {
     "data": {
      "image/png": "[encoded data removed]",
      "text/plain": [
       "<matplotlib.figure.Figure at 0x7f4e50e12350>"
      ]
     },
     "metadata": {},
     "output_type": "display_data"
    },
    {
     "data": {
      "image/png": "[encoded data removed]",
      "text/plain": [
       "<matplotlib.figure.Figure at 0x7f4e776828d0>"
      ]
     },
     "metadata": {},
     "output_type": "display_data"
    }
   ],
   "source": [
    "# mean\n",
    "df.groupby([df.date_entry.dt.month]).mean().plot(title=\"Mean with outliers\").set_ylim(85,92.5)\n",
    "df_without.groupby([ df_without.date_entry.dt.month]).mean().plot(title=\"Mean without outliers\").set_ylim(62.5,70)"
   ]
  },
  {
   "cell_type": "markdown",
   "metadata": {},
   "source": [
    "### Yearly trend of prices"
   ]
  },
  {
   "cell_type": "code",
   "execution_count": 22,
   "metadata": {},
   "outputs": [
    {
     "data": {
      "text/plain": [
       "(4.23, 199.02)"
      ]
     },
     "execution_count": 22,
     "metadata": {},
     "output_type": "execute_result"
    },
    {
     "data": {
      "image/png": "[encoded data removed]",
      "text/plain": [
       "<matplotlib.figure.Figure at 0x7f4f686c79d0>"
      ]
     },
     "metadata": {},
     "output_type": "display_data"
    },
    {
     "data": {
      "image/png": "[encoded data removed]",
      "text/plain": [
       "<matplotlib.figure.Figure at 0x7f4f685ca650>"
      ]
     },
     "metadata": {},
     "output_type": "display_data"
    }
   ],
   "source": [
    "# mean\n",
    "df.groupby([df.date_entry.dt.year]).mean().plot(title=\"Mean with outliers\").set_ylim(q1,q2)\n",
    "df_without.groupby([ df_without.date_entry.dt.year]).mean().plot(title=\"Mean without outliers\").set_ylim(q1,q2)"
   ]
  },
  {
   "cell_type": "code",
   "execution_count": 23,
   "metadata": {},
   "outputs": [
    {
     "data": {
      "image/png": "[encoded data removed]",
      "text/plain": [
       "<matplotlib.figure.Figure at 0x7f4f6872e4d0>"
      ]
     },
     "metadata": {},
     "output_type": "display_data"
    }
   ],
   "source": [
    "data1 = master[['date_entry', 'amount_approved', 'insurance_id', 'paid_proc_code']]\n",
    "\n",
    "def filtered1(df, cpt, insr):\n",
    "    \n",
    "    price = 'amount_approved'\n",
    "\n",
    "    df=df[df['paid_proc_code']==cpt]\n",
    "    df=df[df['insurance_id']==insr]\n",
    "    #print (df)\n",
    "    \n",
    "    _1, _2 = 0.05, 0.95\n",
    "    quantile=df[price].quantile([_1,_2])\n",
    "    q1, q2 = quantile[_1], quantile[_2]\n",
    "\n",
    "    df = df[df[price] > q1]\n",
    "    df = df[df[price] < q2]\n",
    "    \n",
    "    df[price].groupby([df.date_entry.dt.month]).mean().plot(title=\"Mean without outliers\")\n",
    "    \n",
    "filtered1(data1, 'J1071', 5008638)"
   ]
  },
  {
   "cell_type": "markdown",
   "metadata": {},
   "source": [
    "#### task"
   ]
  },
  {
   "cell_type": "code",
   "execution_count": 24,
   "metadata": {},
   "outputs": [
    {
     "name": "stdout",
     "output_type": "stream",
     "text": [
      "      date_entry  amount_approved  insurance_id paid_proc_code  \\\n",
      "1674  2016-07-13             0.03       5008638          J1071   \n",
      "1916  2016-07-25             5.71       5008638          J1071   \n",
      "7218  2016-07-14             6.10       5008638          J1071   \n",
      "7614  2016-07-02             6.10       5008638          J1071   \n",
      "7964  2016-07-15             6.10       5008638          J1071   \n",
      "7966  2016-07-09             6.10       5008638          J1071   \n",
      "7967  2016-07-19             6.10       5008638          J1071   \n",
      "7968  2016-07-12             6.10       5008638          J1071   \n",
      "8379  2016-07-27             6.10       5008638          J1071   \n",
      "13058 2016-07-08             6.10       5008638          J1071   \n",
      "20341 2016-07-11             6.10       5008638          J1071   \n",
      "\n",
      "       billing_physician  \n",
      "1674            53483380  \n",
      "1916            53483380  \n",
      "7218            53483380  \n",
      "7614            53483380  \n",
      "7964            53483380  \n",
      "7966            53483380  \n",
      "7967            53483380  \n",
      "7968            53483380  \n",
      "8379            53483380  \n",
      "13058           53483380  \n",
      "20341           53483380  \n",
      "      date_entry  amount_approved  insurance_id paid_proc_code  \\\n",
      "0     2016-06-18             0.03       5008638          J1071   \n",
      "7214  2016-06-13             6.10       5008638          J1071   \n",
      "7217  2016-06-22             6.10       5008638          J1071   \n",
      "8376  2016-06-16             6.10       5008638          J1071   \n",
      "16043 2016-06-30             0.03       5008638          J1071   \n",
      "18087 2016-06-18             6.10       5008638          J1071   \n",
      "20037 2016-06-25             6.10       5008638          J1071   \n",
      "20337 2016-06-08             6.10       5008638          J1071   \n",
      "1919  2016-08-11             5.71       5008638          J1071   \n",
      "1943  2016-08-20             0.03       5008638          J1071   \n",
      "3200  2016-08-24             5.71       5008638          J1071   \n",
      "3203  2016-08-01             5.71       5008638          J1071   \n",
      "3204  2016-08-17             5.71       5008638          J1071   \n",
      "4818  2016-08-04             5.71       5008638          J1071   \n",
      "4821  2016-08-12             5.71       5008638          J1071   \n",
      "5412  2016-08-25             5.71       5008638          J1071   \n",
      "5415  2016-08-19             5.71       5008638          J1071   \n",
      "8022  2016-08-18             5.71       5008638          J1071   \n",
      "8025  2016-08-29             5.71       5008638          J1071   \n",
      "11123 2016-08-10             5.71       5008638          J1071   \n",
      "11504 2016-08-13             5.71       5008638          J1071   \n",
      "11538 2016-08-11             0.03       5008638          J1071   \n",
      "15261 2016-08-20             5.71       5008638          J1071   \n",
      "606   2016-12-01             4.53       5008638          J1071   \n",
      "607   2016-12-16             4.53       5008638          J1071   \n",
      "1864  2016-12-09             4.53       5008638          J1071   \n",
      "1866  2016-12-30             4.53       5008638          J1071   \n",
      "2028  2016-12-21             4.53       5008638          J1071   \n",
      "2030  2016-12-29             4.53       5008638          J1071   \n",
      "7255  2016-12-23             6.00       5008638          J1071   \n",
      "\n",
      "       billing_physician  \n",
      "0               53483380  \n",
      "7214            53483380  \n",
      "7217            53483380  \n",
      "8376            53483380  \n",
      "16043           53483380  \n",
      "18087           53483380  \n",
      "20037           53483380  \n",
      "20337           53483380  \n",
      "1919            53483380  \n",
      "1943            53483380  \n",
      "3200            53483380  \n",
      "3203            53483380  \n",
      "3204            53483380  \n",
      "4818            53483380  \n",
      "4821            53483380  \n",
      "5412            53483380  \n",
      "5415            53483380  \n",
      "8022            53483380  \n",
      "8025            53483380  \n",
      "11123           53483380  \n",
      "11504           53483380  \n",
      "11538           53483380  \n",
      "15261           53483380  \n",
      "606             53483380  \n",
      "607             53483380  \n",
      "1864            53483380  \n",
      "1866            53483380  \n",
      "2028            53483380  \n",
      "2030            53483380  \n",
      "7255            53483380  \n"
     ]
    },
    {
     "name": "stderr",
     "output_type": "stream",
     "text": [
      "/usr/local/lib/python2.7/dist-packages/ipykernel_launcher.py:30: UserWarning: Boolean Series key will be reindexed to match DataFrame index.\n",
      "/usr/local/lib/python2.7/dist-packages/ipykernel_launcher.py:40: UserWarning: Boolean Series key will be reindexed to match DataFrame index.\n"
     ]
    }
   ],
   "source": [
    "data2 = master[['date_entry', 'amount_approved',\n",
    "                'insurance_id', 'paid_proc_code', 'billing_physician']].drop_duplicates()\n",
    "\n",
    "def filtered2(df, date_range, cpt, insr, phy):\n",
    "    start = pd.Timestamp(date_range[0])\n",
    "    end = pd.Timestamp(date_range[1])\n",
    "    \n",
    "    price = 'amount_approved'\n",
    "    \n",
    "    df=df[df['date_entry']>start]\n",
    "    df=df[df['date_entry']<end]\n",
    "    \n",
    "    df=df[df['paid_proc_code']==cpt]\n",
    "    df=df[df['insurance_id']==insr]\n",
    "    df=df[df['billing_physician']==phy]   \n",
    "    \n",
    "    gb_result = df[price].groupby([df.date_entry.dt.year, df.date_entry.dt.month]).mean()\n",
    "    \n",
    "    gtr_10 = gb_result[gb_result.pct_change() > 0.1]\n",
    "    lwr_10 = gb_result[gb_result.pct_change() < -0.1]\n",
    "    \n",
    "    gtr_10_results = df.iloc[0:0]\n",
    "    lwr_10_results = df.iloc[0:0]\n",
    "    \n",
    "    if gtr_10.shape[0]:\n",
    "        for k,v in gtr_10.iteritems():\n",
    "            date = pd.datetime(k[0], k[1], 1)\n",
    "            \n",
    "            tmp = df[df.date_entry.dt.year == date.year]\n",
    "            tmp = tmp[df.date_entry.dt.month == date.month]\n",
    "#             print(tmp)\n",
    "            gtr_10_results = pd.concat([gtr_10_results, tmp])        \n",
    "    \n",
    "    if lwr_10.shape[0]:\n",
    "        for k,v in lwr_10.iteritems():\n",
    "            date = pd.datetime(k[0], k[1], 1)\n",
    "            lwr_10_results.append(df[df['date_entry'] == date])\n",
    "            \n",
    "            tmp = df[df.date_entry.dt.year == date.year]\n",
    "            tmp = tmp[df.date_entry.dt.month == date.month]\n",
    "#             print(tmp)\n",
    "            lwr_10_results = pd.concat([lwr_10_results, tmp])\n",
    "    \n",
    "    return (gtr_10_results, lwr_10_results)\n",
    "\n",
    "#     for k,v in gb_result:\n",
    "#         print(gb_result.get_group(k))\n",
    "#         print(k)\n",
    "#         print(v)\n",
    "    \n",
    "a, b = filtered2(data2, ['2014-6-01', '2018-1-01'], 'J1071', 5008638, 53483380)\n",
    "print(a)\n",
    "print(b)"
   ]
  },
  {
   "cell_type": "code",
   "execution_count": 25,
   "metadata": {},
   "outputs": [
    {
     "name": "stderr",
     "output_type": "stream",
     "text": [
      "/usr/local/lib/python2.7/dist-packages/ipykernel_launcher.py:26: UserWarning: Boolean Series key will be reindexed to match DataFrame index.\n"
     ]
    },
    {
     "data": {
      "text/plain": [
       "<matplotlib.axes._subplots.AxesSubplot at 0x7f4eaff358d0>"
      ]
     },
     "execution_count": 25,
     "metadata": {},
     "output_type": "execute_result"
    },
    {
     "data": {
      "image/png": "[encoded data removed]",
      "text/plain": [
       "<matplotlib.figure.Figure at 0x7f4f6867d150>"
      ]
     },
     "metadata": {},
     "output_type": "display_data"
    }
   ],
   "source": [
    "data3 = master[['date_entry', 'amount_approved', 'paid_proc_code', 'billing_physician']].drop_duplicates()\n",
    "\n",
    "def filtered3(df, date_range, cpt):\n",
    "    start = pd.Timestamp(date_range[0])\n",
    "    end = pd.Timestamp(date_range[1])\n",
    "    \n",
    "    price = 'amount_approved'\n",
    "    \n",
    "    df=df[df['date_entry']>start]\n",
    "    df=df[df['date_entry']<end]\n",
    "    \n",
    "    df=df[df['paid_proc_code']==cpt]\n",
    "    \n",
    "    gb_result = df[price].groupby([df.date_entry.dt.year, df.date_entry.dt.month]).mean()\n",
    "    \n",
    "    chg_10 = gb_result[gb_result.pct_change() > 0.1]\n",
    "    chg_10 = pd.concat([chg_10, gb_result[gb_result.pct_change() < -0.1]])\n",
    "    \n",
    "    chg_10_results = df.iloc[0:0]\n",
    "    \n",
    "    if chg_10.shape[0]:\n",
    "        for k,v in chg_10.iteritems():\n",
    "            date = pd.datetime(k[0], k[1], 1)\n",
    "            \n",
    "            tmp = df[df.date_entry.dt.year == date.year]\n",
    "            tmp = tmp[df.date_entry.dt.month == date.month]\n",
    "#             print(tmp)\n",
    "            chg_10_results = pd.concat([chg_10_results, tmp])        \n",
    "    \n",
    "    return chg_10_results\n",
    "\n",
    "Changing = filtered3(data3, ['2014-6-01', '2018-1-01'], 'J1071')\n",
    "\n",
    "\n",
    "Changing[price].groupby([Changing.date_entry.dt.year, Changing.date_entry.dt.month]).mean().plot()"
   ]
  },
  {
   "cell_type": "markdown",
   "metadata": {},
   "source": [
    "# fulll work"
   ]
  },
  {
   "cell_type": "code",
   "execution_count": 55,
   "metadata": {},
   "outputs": [
    {
     "name": "stdout",
     "output_type": "stream",
     "text": [
      "len 209\n",
      "160        J2405\n",
      "339        J7613\n",
      "372        J7620\n",
      "406        J1100\n",
      "5063       A6216\n",
      "7716       36415\n",
      "7720       J1200\n",
      "11225      J0696\n",
      "12243      81002\n",
      "12608      J7644\n",
      "12614      J1885\n",
      "14733      A6449\n",
      "25898      J7030\n",
      "38039      J3420\n",
      "38694      85014\n",
      "43871      J7060\n",
      "48696      82962\n",
      "49914      84703\n",
      "51921      J2930\n",
      "54952      A4565\n",
      "56148      81000\n",
      "56193      87210\n",
      "56680      86308\n",
      "65937      87804\n",
      "65938      87880\n",
      "67510      82330\n",
      "69969      99173\n",
      "71086      J7610\n",
      "73763      80048\n",
      "75523      J0561\n",
      "           ...  \n",
      "6117888    99382\n",
      "6179666    12013\n",
      "6211634    12011\n",
      "6235019    99386\n",
      "6353016    87505\n",
      "6393200    12042\n",
      "6413965    11442\n",
      "6416452    11403\n",
      "6426856    99387\n",
      "6694330    90620\n",
      "6722533    93978\n",
      "6724285    13131\n",
      "6766802    93306\n",
      "6827242    12051\n",
      "6988155    11444\n",
      "7052527    11043\n",
      "7057385    12032\n",
      "7149129    17110\n",
      "7168647    99393\n",
      "7226001    99392\n",
      "7626955    10120\n",
      "7702463    93308\n",
      "7710812    10140\n",
      "7721224    24640\n",
      "7787860    46320\n",
      "7796231    73550\n",
      "7979639    93880\n",
      "8288983    70200\n",
      "8741349    99397\n",
      "8785681    12041\n",
      "Name: paid_proc_code, Length: 209, dtype: object\n"
     ]
    }
   ],
   "source": [
    "def filtered4(df, date_range, cpt, insr, phy):\n",
    "    start = pd.Timestamp(date_range[0])\n",
    "    end = pd.Timestamp(date_range[1])\n",
    "    \n",
    "    price = 'amount_approved'\n",
    "    \n",
    "    df=df[df['date_entry'] > start]\n",
    "    df=df[df['date_entry'] < end]\n",
    "    \n",
    "    df=df[df['paid_proc_code']==cpt]\n",
    "    df=df[df['insurance_id']==insr]\n",
    "    df=df[df['billing_physician']==phy]\n",
    "    \n",
    "    df=df[df['paid_proc_code']==cpt]\n",
    "    \n",
    "    gb_result = df[price].groupby([df.date_entry.dt.year, df.date_entry.dt.month]).mean()\n",
    "    \n",
    "    chg_10 = gb_result[gb_result.pct_change() > 0.1]\n",
    "    chg_10 = pd.concat([chg_10, gb_result[gb_result.pct_change() < -0.1]])\n",
    "    \n",
    "    chg_10_results = df.iloc[0:0]\n",
    "    \n",
    "    if chg_10.shape[0]:\n",
    "        for k,v in chg_10.iteritems():\n",
    "            date = pd.datetime(k[0], k[1], 1)\n",
    "            \n",
    "            tmp = df[df.date_entry.dt.year == date.year]\n",
    "            tmp = tmp[df.date_entry.dt.month == date.month]\n",
    "            chg_10_results = pd.concat([chg_10_results, tmp])        \n",
    "    \n",
    "    return chg_10_results\n",
    "\n",
    "\n",
    "############################### START\n",
    "\n",
    "data4 = master[['date_entry', 'amount_approved',\n",
    "                'insurance_id', 'paid_proc_code', 'billing_physician']].drop_duplicates()\n",
    "\n",
    "# provider = data4['billing_physician'].value_counts().index[0] # 53481606\n",
    "provider = 53481606\n",
    "\n",
    "data4 = data4[data4['billing_physician'] == provider]\n",
    "\n",
    "# isr_num = data4['insurance_id'].value_counts().index[0] # 4221034\n",
    "isr_num = 4221034\n",
    "\n",
    "data4 = data4[data4['insurance_id'] == isr_num]\n",
    "\n",
    "cpts = data4['paid_proc_code'].drop_duplicates()\n",
    "\n",
    "print(\"len\", len(cpts))\n",
    "print(cpts)\n",
    "\n"
   ]
  },
  {
   "cell_type": "code",
   "execution_count": 56,
   "metadata": {},
   "outputs": [
    {
     "name": "stderr",
     "output_type": "stream",
     "text": [
      "/usr/local/lib/python2.7/dist-packages/ipykernel_launcher.py:28: UserWarning: Boolean Series key will be reindexed to match DataFrame index.\n"
     ]
    },
    {
     "data": {
      "image/png": "[encoded data removed]",
      "text/plain": [
       "<matplotlib.figure.Figure at 0x7f4f685db610>"
      ]
     },
     "metadata": {},
     "output_type": "display_data"
    }
   ],
   "source": [
    "cpts_subset = cpts.value_counts().index[:]\n",
    "\n",
    "cpt = cpts_subset[2] #\n",
    "\n",
    "# checking one cpt\n",
    "Changing = filtered4(data4, ['2000-6-01', '2020-1-01'],cpt, isr_num, provider)\n",
    "if Changing.shape[0]:\n",
    "    Changing[price].groupby([Changing.date_entry.dt.year, Changing.date_entry.dt.month]).mean().plot()\n",
    "else:\n",
    "    \"Not changing drastically\""
   ]
  },
  {
   "cell_type": "markdown",
   "metadata": {},
   "source": [
    "# Per cpt monthly trend for cpts having more than 10% change between months"
   ]
  },
  {
   "cell_type": "code",
   "execution_count": 57,
   "metadata": {},
   "outputs": [
    {
     "name": "stderr",
     "output_type": "stream",
     "text": [
      "/usr/local/lib/python2.7/dist-packages/ipykernel_launcher.py:28: UserWarning: Boolean Series key will be reindexed to match DataFrame index.\n"
     ]
    }
   ],
   "source": [
    "Results = {}\n",
    "\n",
    "for cpt in cpts_subset:\n",
    "    _tmp = filtered4(data4, ['2000-6-01', '2020-1-01'],cpt, isr_num, provider)\n",
    "    \n",
    "    Results[cpt] = _tmp[price].groupby([Changing.date_entry.dt.year, Changing.date_entry.dt.month]).mean()"
   ]
  },
  {
   "cell_type": "code",
   "execution_count": 63,
   "metadata": {},
   "outputs": [
    {
     "ename": "TypeError",
     "evalue": "'module' object is not callable",
     "output_type": "error",
     "traceback": [
      "\u001b[0;31m-------------------------------------------------------------------\u001b[0m",
      "\u001b[0;31mTypeError\u001b[0m                         Traceback (most recent call last)",
      "\u001b[0;32m<ipython-input-63-46054ee0fa0d>\u001b[0m in \u001b[0;36m<module>\u001b[0;34m()\u001b[0m\n\u001b[1;32m      1\u001b[0m \u001b[0;32mimport\u001b[0m \u001b[0mdatetime\u001b[0m\u001b[0;34m\u001b[0m\u001b[0m\n\u001b[0;32m----> 2\u001b[0;31m \u001b[0;32mprint\u001b[0m \u001b[0;34m(\u001b[0m\u001b[0mdatetime\u001b[0m\u001b[0;34m(\u001b[0m\u001b[0;34m)\u001b[0m\u001b[0;34m)\u001b[0m\u001b[0;34m\u001b[0m\u001b[0m\n\u001b[0m",
      "\u001b[0;31mTypeError\u001b[0m: 'module' object is not callable"
     ]
    }
   ],
   "source": [
    "import datetime\n",
    "print (datetime())"
   ]
  },
  {
   "cell_type": "code",
   "execution_count": null,
   "metadata": {
    "collapsed": true
   },
   "outputs": [],
   "source": []
  }
 ],
 "metadata": {
  "kernelspec": {
   "display_name": "Python 2",
   "language": "python",
   "name": "python2"
  },
  "language_info": {
   "codemirror_mode": {
    "name": "ipython",
    "version": 2
   },
   "file_extension": ".py",
   "mimetype": "text/x-python",
   "name": "python",
   "nbconvert_exporter": "python",
   "pygments_lexer": "ipython2",
   "version": "2.7.12"
  }
 },
 "nbformat": 4,
 "nbformat_minor": 2
}
